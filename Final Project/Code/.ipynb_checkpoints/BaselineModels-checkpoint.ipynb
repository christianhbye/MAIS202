{
 "cells": [
  {
   "cell_type": "markdown",
   "metadata": {},
   "source": [
    "Name: Christian Hellum Bye"
   ]
  },
  {
   "cell_type": "markdown",
   "metadata": {},
   "source": [
    "# Baseline Models"
   ]
  },
  {
   "cell_type": "markdown",
   "metadata": {},
   "source": [
    "This notebook presents some baseline models for the classification problem in the final project."
   ]
  },
  {
   "cell_type": "markdown",
   "metadata": {},
   "source": [
    "## Preprocessing the data"
   ]
  },
  {
   "cell_type": "code",
   "execution_count": 9,
   "metadata": {},
   "outputs": [],
   "source": [
    "import numpy as np\n",
    "from sklearn.model_selection import train_test_split #to split the dataset"
   ]
  },
  {
   "cell_type": "code",
   "execution_count": 10,
   "metadata": {},
   "outputs": [],
   "source": [
    "data = np.loadtxt('../pulsar_stars.csv', delimiter=',', skiprows=1)"
   ]
  },
  {
   "cell_type": "code",
   "execution_count": 11,
   "metadata": {},
   "outputs": [],
   "source": [
    "X = data[:, 0:8] #features\n",
    "y = data[:, 8] #classes"
   ]
  },
  {
   "cell_type": "code",
   "execution_count": 12,
   "metadata": {},
   "outputs": [],
   "source": [
    "#split the dataset into two parts, 80 % containing training set, 20 % to the test set\n",
    "X_train, X_test, y_train, y_test = train_test_split(X, y, test_size=0.2)"
   ]
  },
  {
   "cell_type": "markdown",
   "metadata": {},
   "source": [
    "## Fitting the models"
   ]
  },
  {
   "cell_type": "code",
   "execution_count": 29,
   "metadata": {},
   "outputs": [],
   "source": [
    "from sklearn.dummy import DummyClassifier"
   ]
  },
  {
   "cell_type": "code",
   "execution_count": 31,
   "metadata": {},
   "outputs": [],
   "source": [
    "strat = DummyClassifier(strategy='stratified') #generates predictions by respecting the training set’s class distribution\n",
    "freq = DummyClassifier(strategy='most_frequent') #always predicts the most frequent label in the training set\n",
    "uniform = DummyClassifier(strategy='uniform') #generates predictions uniformly at random\n",
    "constant = DummyClassifier(strategy='constant', constant=1) #always predicts a constant label of 1"
   ]
  },
  {
   "cell_type": "code",
   "execution_count": 32,
   "metadata": {},
   "outputs": [
    {
     "data": {
      "text/plain": [
       "DummyClassifier(constant=1, random_state=None, strategy='constant')"
      ]
     },
     "execution_count": 32,
     "metadata": {},
     "output_type": "execute_result"
    }
   ],
   "source": [
    "strat.fit(X_train, y_train)\n",
    "freq.fit(X_train, y_train)\n",
    "uniform.fit(X_train, y_train)\n",
    "constant.fit(X_train, y_train)"
   ]
  },
  {
   "cell_type": "markdown",
   "metadata": {},
   "source": [
    "## Prediction and scores"
   ]
  },
  {
   "cell_type": "code",
   "execution_count": 33,
   "metadata": {},
   "outputs": [],
   "source": [
    "y_strat = strat.predict(X_test)\n",
    "y_freq = freq.predict(X_test)\n",
    "y_uniform = uniform.predict(X_test)\n",
    "y_const = constant.predict(X_test)"
   ]
  },
  {
   "cell_type": "code",
   "execution_count": 22,
   "metadata": {},
   "outputs": [],
   "source": [
    "from sklearn.metrics import f1_score"
   ]
  },
  {
   "cell_type": "code",
   "execution_count": 34,
   "metadata": {},
   "outputs": [],
   "source": [
    "f1_strat = f1_score(y_test, y_strat)\n",
    "f1_freq = f1_score(y_test, y_freq)\n",
    "f1_uniform = f1_score(y_test, y_uniform)\n",
    "f1_const = f1_score(y_test, y_const)"
   ]
  },
  {
   "cell_type": "code",
   "execution_count": 35,
   "metadata": {
    "scrolled": true
   },
   "outputs": [
    {
     "name": "stdout",
     "output_type": "stream",
     "text": [
      "F1-scores:\n",
      "\n",
      "Stratified: 0.09895052473763119\n",
      "Most frequent: 0.0\n",
      "Uniform: 0.16760299625468167\n",
      "Constant: 0.16316059517701387\n"
     ]
    }
   ],
   "source": [
    "print('F1-scores:\\n')\n",
    "print('Stratified:', f1_strat)\n",
    "print('Most frequent:', f1_freq)\n",
    "print('Uniform:', f1_uniform)\n",
    "print('Constant:', f1_const)"
   ]
  },
  {
   "cell_type": "code",
   "execution_count": 37,
   "metadata": {},
   "outputs": [
    {
     "name": "stdout",
     "output_type": "stream",
     "text": [
      "Accuracy:\n",
      "\n",
      "Stratified: 0.8391061452513966\n",
      "Most frequent: 0.9111731843575419\n",
      "Uniform: 0.49860335195530725\n",
      "Constant: 0.0888268156424581\n"
     ]
    }
   ],
   "source": [
    "print('Accuracy:\\n')\n",
    "print('Stratified:', strat.score(X_test, y_test))\n",
    "print('Most frequent:', freq.score(X_test, y_test))\n",
    "print('Uniform:', uniform.score(X_test, y_test))\n",
    "print('Constant:', constant.score(X_test, y_test))"
   ]
  }
 ],
 "metadata": {
  "kernelspec": {
   "display_name": "Python 3",
   "language": "python",
   "name": "python3"
  },
  "language_info": {
   "codemirror_mode": {
    "name": "ipython",
    "version": 3
   },
   "file_extension": ".py",
   "mimetype": "text/x-python",
   "name": "python",
   "nbconvert_exporter": "python",
   "pygments_lexer": "ipython3",
   "version": "3.6.10"
  }
 },
 "nbformat": 4,
 "nbformat_minor": 4
}
