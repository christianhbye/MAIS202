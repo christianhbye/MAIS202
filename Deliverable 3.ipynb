{
 "cells": [
  {
   "cell_type": "markdown",
   "metadata": {},
   "source": [
    "Name: Christian Hellum Bye"
   ]
  },
  {
   "cell_type": "markdown",
   "metadata": {},
   "source": [
    "# Predicting a Pulsar Star"
   ]
  },
  {
   "cell_type": "markdown",
   "metadata": {},
   "source": [
    "In this deliverable, we will compare different classification algortihms to see which ones perform best on our data. We will then pick one as our final model and create an outline to a final poster presentation."
   ]
  },
  {
   "cell_type": "markdown",
   "metadata": {},
   "source": [
    "Following the work from deliverable 2, we will first try to improve the Support Vector Machine model and then see how it compares to a Naive Bayes classfier, a k-NN algortihm, a random forest and a neural network."
   ]
  },
  {
   "cell_type": "markdown",
   "metadata": {},
   "source": [
    "## Preprocessing the data"
   ]
  },
  {
   "cell_type": "markdown",
   "metadata": {},
   "source": [
    "This section follows the work from deliverable 2."
   ]
  },
  {
   "cell_type": "code",
   "execution_count": 7,
   "metadata": {},
   "outputs": [],
   "source": [
    "import numpy as np\n",
    "from sklearn.model_selection import train_test_split #to split the dataset"
   ]
  },
  {
   "cell_type": "code",
   "execution_count": 8,
   "metadata": {},
   "outputs": [],
   "source": [
    "data = np.loadtxt('pulsar_stars.csv', delimiter=',', skiprows=1)"
   ]
  },
  {
   "cell_type": "code",
   "execution_count": 9,
   "metadata": {},
   "outputs": [],
   "source": [
    "X = data[:, 0:8] #features\n",
    "y = data[:, 8] #classes"
   ]
  },
  {
   "cell_type": "code",
   "execution_count": 85,
   "metadata": {},
   "outputs": [],
   "source": [
    "#split the dataset into two parts, 80 % containing training and validation sets, 20 % to the test set\n",
    "X_train_validation, X_test, y_train_validation, y_test = train_test_split(X, y, test_size=0.2)\n",
    "\n",
    "#split the larger part of the dataset to two parts: 75 % (= 60 % of the total data) to training set, 25 % (= 20 % of the total)\n",
    "#to the validation set\n",
    "X_train, X_validation, y_train, y_validation = train_test_split(X_train_validation, y_train_validation, test_size=0.25)"
   ]
  },
  {
   "cell_type": "markdown",
   "metadata": {},
   "source": [
    "## Models"
   ]
  },
  {
   "cell_type": "markdown",
   "metadata": {},
   "source": [
    "### Support Vector Machine"
   ]
  },
  {
   "cell_type": "markdown",
   "metadata": {},
   "source": [
    "As explained in deliverable 2, the hyperparameters for this algorithm are: regularization method ('penalty'), loss function ('loss') and regularization parameter ('C'). "
   ]
  },
  {
   "cell_type": "markdown",
   "metadata": {},
   "source": [
    "In deliverable 2, the parameters were set like this:\n",
    "\n",
    "* penalty = 'l2' (ridge regularization)\n",
    "* loss = 'squared_hinge' (a squared hinge loss function)\n",
    "* C = 100"
   ]
  },
  {
   "cell_type": "markdown",
   "metadata": {},
   "source": [
    "These parameters gave us the following f1-scores:\n",
    "* Training: 0.879\n",
    "* Validation: 0.889\n",
    "* Test: 0.865"
   ]
  },
  {
   "cell_type": "markdown",
   "metadata": {},
   "source": [
    "We will now test different combinations of hyperparameters to optimize the model. First we will investigate how changing 'penalty' and 'C' affects the f1-score."
   ]
  },
  {
   "cell_type": "code",
   "execution_count": 18,
   "metadata": {},
   "outputs": [],
   "source": [
    "#import necessary libraries\n",
    "from sklearn.svm import LinearSVC #the training algorithm\n",
    "from sklearn.metrics import confusion_matrix, f1_score\n",
    "import matplotlib.pyplot as plt"
   ]
  },
  {
   "cell_type": "code",
   "execution_count": 76,
   "metadata": {},
   "outputs": [],
   "source": [
    "def SVM_f1(penalty, loss, C):\n",
    "    '''\n",
    "    This function calculates the f1-scores of the validation and training sets using a SVM with different choices for\n",
    "    penalty, loss and C.\n",
    "    '''\n",
    "    \n",
    "    #set the parameter dual to match input parameters\n",
    "    if penalty == 'l2' and loss == 'hinge':\n",
    "        dual = True\n",
    "    else:\n",
    "        dual = False\n",
    "        \n",
    "    svm_clf = LinearSVC(penalty=penalty, loss=loss, C=C, class_weight='balanced', dual=dual) #set hyperparameters\n",
    "    svm_clf.fit(X_train, y_train) #fit the model to the training data\n",
    "    \n",
    "    #predict the class labels for the training set and validation set\n",
    "    train_predict = svm_clf.predict(X_train)\n",
    "    validation_predict = svm_clf.predict(X_validation)\n",
    "    \n",
    "    #compute the f1-scores for the training and validation sets\n",
    "    f1_train = f1_score(y_train, train_predict)\n",
    "    f1_validation = f1_score(y_validation, validation_predict)\n",
    "    \n",
    "    return f1_train, f1_validation"
   ]
  },
  {
   "cell_type": "markdown",
   "metadata": {},
   "source": [
    "Using squared hinge loss function and Lasso regularization (L1), we will plot f1-score vs C for C = 5, 10, ..., 500:"
   ]
  },
  {
   "cell_type": "code",
   "execution_count": 46,
   "metadata": {},
   "outputs": [],
   "source": [
    "SVM_f1_train_l1_squared = np.empty(100) #f1-scores for training data using l1 regularization and squared hinge loss\n",
    "SVM_f1_validation_l1_squared = np.empty(100) #validation data\n",
    "C_vals = 5*np.arange(1,101) #values of C\n",
    "\n",
    "for i in range(100):\n",
    "    C = C_vals[i]\n",
    "    SVM_f1_train_l1_squared[i], SVM_f1_validation_l1_squared[i] = SVM_f1(penalty='l1', loss='squared_hinge', C=C) "
   ]
  },
  {
   "cell_type": "code",
   "execution_count": 47,
   "metadata": {},
   "outputs": [
    {
     "data": {
      "image/png": "[encoded data removed]",
      "text/plain": [
       "<Figure size 432x288 with 1 Axes>"
      ]
     },
     "metadata": {},
     "output_type": "display_data"
    }
   ],
   "source": [
    "plt.figure()\n",
    "plt.scatter(C_vals, SVM_f1_train_l1_squared, label = 'Training data')\n",
    "plt.scatter(C_vals, SVM_f1_validation_l1_squared, label = 'Validation data')\n",
    "plt.legend()\n",
    "plt.title('F1-score vs regularization parameter using SVM \\n with L1 regularization and squared hinge loss')\n",
    "plt.xlabel('Regularization parameter')\n",
    "plt.ylabel('F1-score')\n",
    "plt.show()"
   ]
  },
  {
   "cell_type": "markdown",
   "metadata": {},
   "source": [
    "We see that the choice of C has essentially no impact on the f1-score. Changing C to something much larger also seems to have almost no impact:"
   ]
  },
  {
   "cell_type": "code",
   "execution_count": 48,
   "metadata": {},
   "outputs": [
    {
     "data": {
      "text/plain": [
       "(0.8539435248296007, 0.8621621621621621)"
      ]
     },
     "execution_count": 48,
     "metadata": {},
     "output_type": "execute_result"
    }
   ],
   "source": [
    "SVM_f1(penalty='l1', loss='squared_hinge', C = 1)"
   ]
  },
  {
   "cell_type": "code",
   "execution_count": 49,
   "metadata": {},
   "outputs": [
    {
     "data": {
      "text/plain": [
       "(0.8543594739405748, 0.8621621621621621)"
      ]
     },
     "execution_count": 49,
     "metadata": {},
     "output_type": "execute_result"
    }
   ],
   "source": [
    "SVM_f1(penalty='l1', loss='squared_hinge', C = 10)"
   ]
  },
  {
   "cell_type": "code",
   "execution_count": 50,
   "metadata": {},
   "outputs": [
    {
     "data": {
      "text/plain": [
       "(0.8556097560975611, 0.8621621621621621)"
      ]
     },
     "execution_count": 50,
     "metadata": {},
     "output_type": "execute_result"
    }
   ],
   "source": [
    "SVM_f1(penalty='l1', loss='squared_hinge', C = 1000)"
   ]
  },
  {
   "cell_type": "code",
   "execution_count": 51,
   "metadata": {},
   "outputs": [
    {
     "data": {
      "text/plain": [
       "(0.8543594739405748, 0.8621621621621621)"
      ]
     },
     "execution_count": 51,
     "metadata": {},
     "output_type": "execute_result"
    }
   ],
   "source": [
    "SVM_f1(penalty='l1', loss='squared_hinge', C = 10000)"
   ]
  },
  {
   "cell_type": "markdown",
   "metadata": {},
   "source": [
    "We now look at Ridge regularization:"
   ]
  },
  {
   "cell_type": "code",
   "execution_count": 87,
   "metadata": {},
   "outputs": [],
   "source": [
    "SVM_f1_train_l2_squared = np.empty(100) #f1-scores for training data\n",
    "SVM_f1_validation_l2_squared = np.empty(100) #f1-scores for validation data\n",
    "\n",
    "for i in range(100):\n",
    "    C = C_vals[i]\n",
    "    SVM_f1_train_l2_squared[i], SVM_f1_validation_l2_squared[i] = SVM_f1(penalty='l2', loss='squared_hinge', C=C) "
   ]
  },
  {
   "cell_type": "code",
   "execution_count": 53,
   "metadata": {},
   "outputs": [
    {
     "data": {
      "image/png": "[encoded data removed]",
      "text/plain": [
       "<Figure size 432x288 with 1 Axes>"
      ]
     },
     "metadata": {},
     "output_type": "display_data"
    }
   ],
   "source": [
    "plt.figure()\n",
    "plt.scatter(C_vals, SVM_f1_train_l2_squared, label = 'Training data')\n",
    "plt.scatter(C_vals, SVM_f1_validation_l2_squared, label = 'Validation data')\n",
    "plt.legend()\n",
    "plt.title('F1-score vs regularization parameter using SVM \\n with L2 regularization and squared hinge loss')\n",
    "plt.xlabel('Regularization parameter')\n",
    "plt.ylabel('F1-score')\n",
    "plt.show()"
   ]
  },
  {
   "cell_type": "markdown",
   "metadata": {},
   "source": [
    "Also in this case, the regularization parameter is not important for the f1-score."
   ]
  },
  {
   "cell_type": "code",
   "execution_count": 54,
   "metadata": {},
   "outputs": [
    {
     "data": {
      "text/plain": [
       "(0.8558866634098681, 0.8633288227334235)"
      ]
     },
     "execution_count": 54,
     "metadata": {},
     "output_type": "execute_result"
    }
   ],
   "source": [
    "SVM_f1(penalty='l2', loss='squared_hinge', C = 1)"
   ]
  },
  {
   "cell_type": "code",
   "execution_count": 55,
   "metadata": {},
   "outputs": [
    {
     "data": {
      "text/plain": [
       "(0.8529698149951314, 0.8656716417910448)"
      ]
     },
     "execution_count": 55,
     "metadata": {},
     "output_type": "execute_result"
    }
   ],
   "source": [
    "SVM_f1(penalty='l2', loss='squared_hinge', C = 100)"
   ]
  },
  {
   "cell_type": "code",
   "execution_count": 56,
   "metadata": {},
   "outputs": [
    {
     "data": {
      "text/plain": [
       "(0.8542174549000487, 0.8644986449864499)"
      ]
     },
     "execution_count": 56,
     "metadata": {},
     "output_type": "execute_result"
    }
   ],
   "source": [
    "SVM_f1(penalty='l2', loss='squared_hinge', C = 1000)"
   ]
  },
  {
   "cell_type": "code",
   "execution_count": 57,
   "metadata": {},
   "outputs": [
    {
     "data": {
      "text/plain": [
       "(0.8533852898197759, 0.8656716417910448)"
      ]
     },
     "execution_count": 57,
     "metadata": {},
     "output_type": "execute_result"
    }
   ],
   "source": [
    "SVM_f1(penalty='l2', loss='squared_hinge', C = 10000)"
   ]
  },
  {
   "cell_type": "markdown",
   "metadata": {},
   "source": [
    "It seems that the f1-score is almost completely independent of the regularization parameter, but that it depends on the regularization method - Ridge regularization seems to give slightly better scores than Lasso regularization."
   ]
  },
  {
   "cell_type": "markdown",
   "metadata": {},
   "source": [
    "We now compare the loss functions squared hinge and hinge using Ridge regularization."
   ]
  },
  {
   "cell_type": "code",
   "execution_count": 86,
   "metadata": {},
   "outputs": [],
   "source": [
    "SVM_f1_train_l2_hinge = np.empty(100) #f1-scores for training data using l2 regularization and hinge loss\n",
    "SVM_f1_validation_l2_hinge = np.empty(100) #validation data\n",
    "\n",
    "for i in range(100):\n",
    "    C = C_vals[i]\n",
    "    SVM_f1_train_l2_hinge[i], SVM_f1_validation_l2_hinge[i] = SVM_f1(penalty='l2', loss='hinge', C=C) "
   ]
  },
  {
   "cell_type": "code",
   "execution_count": 88,
   "metadata": {
    "scrolled": true
   },
   "outputs": [
    {
     "data": {
      "image/png": "[encoded data removed]",
      "text/plain": [
       "<Figure size 432x288 with 1 Axes>"
      ]
     },
     "metadata": {},
     "output_type": "display_data"
    }
   ],
   "source": [
    "plt.figure()\n",
    "plt.scatter(C_vals, SVM_f1_train_l2_squared, label = 'Training data, squared hinge loss')\n",
    "plt.scatter(C_vals, SVM_f1_validation_l2_squared, label = 'Validation data, squared hinge loss')\n",
    "plt.scatter(C_vals, SVM_f1_train_l2_hinge, label = 'Training data, hinge loss')\n",
    "plt.scatter(C_vals, SVM_f1_validation_l2_hinge, label = 'Validation data, hinge loss')\n",
    "plt.legend(loc = 0, bbox_to_anchor = (1,1))\n",
    "plt.title('F1-score vs regularization parameter \\n using SVM with L2 regularization')\n",
    "plt.xlabel('Regularization parameter')\n",
    "plt.ylabel('F1-score')\n",
    "plt.ylim(0.8)\n",
    "plt.show()"
   ]
  },
  {
   "cell_type": "markdown",
   "metadata": {},
   "source": [
    "We see that the choice of loss function has a big effect on the f1-scores. Using hinge loss, the regularization parameter suddenly becomes important again, with small changes in the regularization parameter giving large variations in f1-scores."
   ]
  },
  {
   "cell_type": "markdown",
   "metadata": {},
   "source": [
    "The choice of hyperparameters that maximize the f1-scores clearly includes using L2 regularization and a hinge loss function. For choosing the value of the regularization parameter, we in principle need to consider two things: what choice maximizes the f1-score of the validation data and what choice minimizes the difference between the f1-scores of the test data and the validation data?"
   ]
  },
  {
   "cell_type": "markdown",
   "metadata": {},
   "source": [
    "The second question is important to ask to avoid overfitting. However, in this case we see that the f1-score on the validation set in general is higher than the f1-score on the training set. Thus, we do not have to worry about overfitting as that would lead to the model performing much better on the training data than on the validation data. Hence, we will pick the value of the regularization paramter that maximizes the f1-score on the validation set."
   ]
  },
  {
   "cell_type": "code",
   "execution_count": 89,
   "metadata": {
    "scrolled": true
   },
   "outputs": [
    {
     "name": "stdout",
     "output_type": "stream",
     "text": [
      "The maximum f1-score is 0.909 which is achieved for C = 140 .\n"
     ]
    }
   ],
   "source": [
    "parameter_index = np.argmax(SVM_f1_validation_l2_hinge) #find the index that maximizes the f1-score using l2 and hinge\n",
    "C_best = C_vals[parameter_index] #the value of C that maximizes the f1-score\n",
    "\n",
    "print('The maximum f1-score is', round(SVM_f1_validation_l2_hinge[parameter_index],3), 'which is achieved for C =', C_best, '.')"
   ]
  },
  {
   "cell_type": "markdown",
   "metadata": {},
   "source": [
    "We know test the best model on the test data set:"
   ]
  },
  {
   "cell_type": "code",
   "execution_count": 90,
   "metadata": {},
   "outputs": [
    {
     "data": {
      "text/plain": [
       "0.8144499178981939"
      ]
     },
     "execution_count": 90,
     "metadata": {},
     "output_type": "execute_result"
    }
   ],
   "source": [
    "svm_clf = LinearSVC(penalty='l2', loss='hinge', C=140, class_weight='balanced', dual=True) #set hyperparameters\n",
    "svm_clf.fit(X_train, y_train) #fit the model to the training data\n",
    "test_predict = svm_clf.predict(X_test) #the predicted classes for the test data\n",
    "f1_score(y_test, test_predict)"
   ]
  },
  {
   "cell_type": "markdown",
   "metadata": {},
   "source": [
    "To summarize:"
   ]
  },
  {
   "cell_type": "markdown",
   "metadata": {},
   "source": [
    "In deliverable 2, the parameters were set like this:\n",
    "\n",
    "* penalty = 'l2' (ridge regularization)\n",
    "* loss = 'squared_hinge' (a squared hinge loss function)\n",
    "* C = 100"
   ]
  },
  {
   "cell_type": "markdown",
   "metadata": {},
   "source": [
    "These parameters gave us the following f1-scores:\n",
    "* Training: 0.879\n",
    "* Validation: 0.889\n",
    "* Test: 0.865"
   ]
  },
  {
   "cell_type": "markdown",
   "metadata": {},
   "source": [
    "Our testing lead us to the following best choice of parameters:\n",
    "\n",
    "* penalty = 'l2'\n",
    "* loss = 'hinge'\n",
    "* C = 230"
   ]
  },
  {
   "cell_type": "code",
   "execution_count": null,
   "metadata": {},
   "outputs": [],
   "source": []
  }
 ],
 "metadata": {
  "kernelspec": {
   "display_name": "Python 3",
   "language": "python",
   "name": "python3"
  },
  "language_info": {
   "codemirror_mode": {
    "name": "ipython",
    "version": 3
   },
   "file_extension": ".py",
   "mimetype": "text/x-python",
   "name": "python",
   "nbconvert_exporter": "python",
   "pygments_lexer": "ipython3",
   "version": "3.6.5"
  }
 },
 "nbformat": 4,
 "nbformat_minor": 2
}
