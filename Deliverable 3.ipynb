{
 "cells": [
  {
   "cell_type": "markdown",
   "metadata": {},
   "source": [
    "Name: Christian Hellum Bye"
   ]
  },
  {
   "cell_type": "markdown",
   "metadata": {},
   "source": [
    "# Predicting a Pulsar Star"
   ]
  },
  {
   "cell_type": "markdown",
   "metadata": {},
   "source": [
    "In this deliverable, we will compare different classification algortihms to see which ones perform best on our data. We will then pick one as our final model and create an outline to a final poster presentation."
   ]
  },
  {
   "cell_type": "markdown",
   "metadata": {},
   "source": [
    "Following the work from deliverable 2, we will first try to improve the Support Vector Machine model and then see how it compares to a k-NN algortihm and a random forest."
   ]
  },
  {
   "cell_type": "markdown",
   "metadata": {},
   "source": [
    "## Preprocessing the data"
   ]
  },
  {
   "cell_type": "markdown",
   "metadata": {},
   "source": [
    "This section follows the work from deliverable 2."
   ]
  },
  {
   "cell_type": "code",
   "execution_count": 7,
   "metadata": {},
   "outputs": [],
   "source": [
    "import numpy as np\n",
    "from sklearn.model_selection import train_test_split #to split the dataset"
   ]
  },
  {
   "cell_type": "code",
   "execution_count": 8,
   "metadata": {},
   "outputs": [],
   "source": [
    "data = np.loadtxt('pulsar_stars.csv', delimiter=',', skiprows=1)"
   ]
  },
  {
   "cell_type": "code",
   "execution_count": 9,
   "metadata": {},
   "outputs": [],
   "source": [
    "X = data[:, 0:8] #features\n",
    "y = data[:, 8] #classes"
   ]
  },
  {
   "cell_type": "code",
   "execution_count": 109,
   "metadata": {},
   "outputs": [],
   "source": [
    "#split the dataset into two parts, 80 % containing training and validation sets, 20 % to the test set\n",
    "X_train_validation, X_test, y_train_validation, y_test = train_test_split(X, y, test_size=0.2)\n",
    "\n",
    "#split the larger part of the dataset to two parts: 75 % (= 60 % of the total data) to training set, 25 % (= 20 % of the total)\n",
    "#to the validation set\n",
    "X_train, X_validation, y_train, y_validation = train_test_split(X_train_validation, y_train_validation, test_size=0.25)"
   ]
  },
  {
   "cell_type": "markdown",
   "metadata": {},
   "source": [
    "## Models"
   ]
  },
  {
   "cell_type": "markdown",
   "metadata": {},
   "source": [
    "### Support Vector Machine"
   ]
  },
  {
   "cell_type": "markdown",
   "metadata": {},
   "source": [
    "As explained in deliverable 2, the hyperparameters for this algorithm are: regularization method ('penalty'), loss function ('loss') and regularization parameter ('C'). "
   ]
  },
  {
   "cell_type": "markdown",
   "metadata": {},
   "source": [
    "In deliverable 2, the parameters were set like this:\n",
    "\n",
    "* penalty = 'l2' (ridge regularization)\n",
    "* loss = 'squared_hinge' (a squared hinge loss function)\n",
    "* C = 100"
   ]
  },
  {
   "cell_type": "markdown",
   "metadata": {},
   "source": [
    "These parameters gave us the following f1-scores:\n",
    "* Training: 0.879\n",
    "* Validation: 0.889\n",
    "* Test: 0.865"
   ]
  },
  {
   "cell_type": "markdown",
   "metadata": {},
   "source": [
    "We will now test different combinations of hyperparameters to optimize the model. First we will investigate how changing 'penalty' and 'C' affects the f1-score."
   ]
  },
  {
   "cell_type": "code",
   "execution_count": 18,
   "metadata": {},
   "outputs": [],
   "source": [
    "#import necessary libraries\n",
    "from sklearn.svm import LinearSVC #the training algorithm\n",
    "from sklearn.metrics import confusion_matrix, f1_score\n",
    "import matplotlib.pyplot as plt"
   ]
  },
  {
   "cell_type": "code",
   "execution_count": 76,
   "metadata": {},
   "outputs": [],
   "source": [
    "def SVM_f1(penalty, loss, C):\n",
    "    '''\n",
    "    This function calculates the f1-scores of the validation and training sets using a SVM with different choices for\n",
    "    penalty, loss and C.\n",
    "    '''\n",
    "    \n",
    "    #set the parameter dual to match input parameters\n",
    "    if penalty == 'l2' and loss == 'hinge':\n",
    "        dual = True\n",
    "    else:\n",
    "        dual = False\n",
    "        \n",
    "    svm_clf = LinearSVC(penalty=penalty, loss=loss, C=C, class_weight='balanced', dual=dual) #set hyperparameters\n",
    "    svm_clf.fit(X_train, y_train) #fit the model to the training data\n",
    "    \n",
    "    #predict the class labels for the training set and validation set\n",
    "    train_predict = svm_clf.predict(X_train)\n",
    "    validation_predict = svm_clf.predict(X_validation)\n",
    "    \n",
    "    #compute the f1-scores for the training and validation sets\n",
    "    f1_train = f1_score(y_train, train_predict)\n",
    "    f1_validation = f1_score(y_validation, validation_predict)\n",
    "    \n",
    "    return f1_train, f1_validation"
   ]
  },
  {
   "cell_type": "markdown",
   "metadata": {},
   "source": [
    "Using squared hinge loss function and Lasso regularization (L1), we will plot f1-score vs C for C = 2, 4, 6, ..., 200:"
   ]
  },
  {
   "cell_type": "code",
   "execution_count": 108,
   "metadata": {},
   "outputs": [],
   "source": [
    "SVM_f1_train_l1_squared = np.empty(100) #f1-scores for training data using l1 regularization and squared hinge loss\n",
    "SVM_f1_validation_l1_squared = np.empty(100) #validation data\n",
    "C_vals = 2*np.arange(1,101) #values of C\n",
    "\n",
    "for i in range(100):\n",
    "    C = C_vals[i]\n",
    "    SVM_f1_train_l1_squared[i], SVM_f1_validation_l1_squared[i] = SVM_f1(penalty='l1', loss='squared_hinge', C=C) "
   ]
  },
  {
   "cell_type": "code",
   "execution_count": 110,
   "metadata": {},
   "outputs": [
    {
     "data": {
      "image/png": "[encoded data removed]",
      "text/plain": [
       "<Figure size 432x288 with 1 Axes>"
      ]
     },
     "metadata": {},
     "output_type": "display_data"
    }
   ],
   "source": [
    "plt.figure()\n",
    "plt.scatter(C_vals, SVM_f1_train_l1_squared, label = 'Training data')\n",
    "plt.scatter(C_vals, SVM_f1_validation_l1_squared, label = 'Validation data')\n",
    "plt.legend()\n",
    "plt.title('F1-score vs regularization parameter using SVM \\n with L1 regularization and squared hinge loss')\n",
    "plt.xlabel('Regularization parameter')\n",
    "plt.ylabel('F1-score')\n",
    "plt.show()"
   ]
  },
  {
   "cell_type": "markdown",
   "metadata": {},
   "source": [
    "We see that the choice of C has essentially no impact on the f1-score. Changing C to something much larger also seems to have almost no impact:"
   ]
  },
  {
   "cell_type": "code",
   "execution_count": 111,
   "metadata": {},
   "outputs": [
    {
     "data": {
      "text/plain": [
       "(0.847457627118644, 0.8389830508474576)"
      ]
     },
     "execution_count": 111,
     "metadata": {},
     "output_type": "execute_result"
    }
   ],
   "source": [
    "SVM_f1(penalty='l1', loss='squared_hinge', C = 1)"
   ]
  },
  {
   "cell_type": "code",
   "execution_count": 112,
   "metadata": {},
   "outputs": [
    {
     "data": {
      "text/plain": [
       "(0.8469147432878004, 0.8389830508474576)"
      ]
     },
     "execution_count": 112,
     "metadata": {},
     "output_type": "execute_result"
    }
   ],
   "source": [
    "SVM_f1(penalty='l1', loss='squared_hinge', C = 10)"
   ]
  },
  {
   "cell_type": "code",
   "execution_count": 113,
   "metadata": {},
   "outputs": [
    {
     "data": {
      "text/plain": [
       "(0.847457627118644, 0.8389830508474576)"
      ]
     },
     "execution_count": 113,
     "metadata": {},
     "output_type": "execute_result"
    }
   ],
   "source": [
    "SVM_f1(penalty='l1', loss='squared_hinge', C = 1000)"
   ]
  },
  {
   "cell_type": "code",
   "execution_count": 114,
   "metadata": {},
   "outputs": [
    {
     "data": {
      "text/plain": [
       "(0.847457627118644, 0.8389830508474576)"
      ]
     },
     "execution_count": 114,
     "metadata": {},
     "output_type": "execute_result"
    }
   ],
   "source": [
    "SVM_f1(penalty='l1', loss='squared_hinge', C = 10000)"
   ]
  },
  {
   "cell_type": "markdown",
   "metadata": {},
   "source": [
    "We now look at Ridge regularization:"
   ]
  },
  {
   "cell_type": "code",
   "execution_count": 115,
   "metadata": {},
   "outputs": [],
   "source": [
    "SVM_f1_train_l2_squared = np.empty(100) #f1-scores for training data\n",
    "SVM_f1_validation_l2_squared = np.empty(100) #f1-scores for validation data\n",
    "\n",
    "for i in range(100):\n",
    "    C = C_vals[i]\n",
    "    SVM_f1_train_l2_squared[i], SVM_f1_validation_l2_squared[i] = SVM_f1(penalty='l2', loss='squared_hinge', C=C) "
   ]
  },
  {
   "cell_type": "code",
   "execution_count": 116,
   "metadata": {},
   "outputs": [
    {
     "data": {
      "image/png": "[encoded data removed]",
      "text/plain": [
       "<Figure size 432x288 with 1 Axes>"
      ]
     },
     "metadata": {},
     "output_type": "display_data"
    }
   ],
   "source": [
    "plt.figure()\n",
    "plt.scatter(C_vals, SVM_f1_train_l2_squared, label = 'Training data')\n",
    "plt.scatter(C_vals, SVM_f1_validation_l2_squared, label = 'Validation data')\n",
    "plt.legend()\n",
    "plt.title('F1-score vs regularization parameter using SVM \\n with L2 regularization and squared hinge loss')\n",
    "plt.xlabel('Regularization parameter')\n",
    "plt.ylabel('F1-score')\n",
    "plt.show()"
   ]
  },
  {
   "cell_type": "markdown",
   "metadata": {},
   "source": [
    "Also in this case, the regularization parameter is not important for the f1-score."
   ]
  },
  {
   "cell_type": "code",
   "execution_count": 117,
   "metadata": {},
   "outputs": [
    {
     "data": {
      "text/plain": [
       "(0.8477133427628478, 0.8413597733711048)"
      ]
     },
     "execution_count": 117,
     "metadata": {},
     "output_type": "execute_result"
    }
   ],
   "source": [
    "SVM_f1(penalty='l2', loss='squared_hinge', C = 1)"
   ]
  },
  {
   "cell_type": "code",
   "execution_count": 118,
   "metadata": {},
   "outputs": [
    {
     "data": {
      "text/plain": [
       "(0.8478568064060291, 0.844950213371266)"
      ]
     },
     "execution_count": 118,
     "metadata": {},
     "output_type": "execute_result"
    }
   ],
   "source": [
    "SVM_f1(penalty='l2', loss='squared_hinge', C = 100)"
   ]
  },
  {
   "cell_type": "code",
   "execution_count": 119,
   "metadata": {},
   "outputs": [
    {
     "data": {
      "text/plain": [
       "(0.8478568064060291, 0.8425531914893616)"
      ]
     },
     "execution_count": 119,
     "metadata": {},
     "output_type": "execute_result"
    }
   ],
   "source": [
    "SVM_f1(penalty='l2', loss='squared_hinge', C = 1000)"
   ]
  },
  {
   "cell_type": "code",
   "execution_count": 120,
   "metadata": {},
   "outputs": [
    {
     "data": {
      "text/plain": [
       "(0.8478568064060291, 0.844950213371266)"
      ]
     },
     "execution_count": 120,
     "metadata": {},
     "output_type": "execute_result"
    }
   ],
   "source": [
    "SVM_f1(penalty='l2', loss='squared_hinge', C = 10000)"
   ]
  },
  {
   "cell_type": "markdown",
   "metadata": {},
   "source": [
    "It seems that the f1-score is almost completely independent of the regularization parameter, but that it depends on the regularization method - Ridge regularization seems to give slightly better scores than Lasso regularization."
   ]
  },
  {
   "cell_type": "markdown",
   "metadata": {},
   "source": [
    "We now compare the loss functions squared hinge and hinge using Ridge regularization."
   ]
  },
  {
   "cell_type": "code",
   "execution_count": 121,
   "metadata": {},
   "outputs": [],
   "source": [
    "SVM_f1_train_l2_hinge = np.empty(100) #f1-scores for training data using l2 regularization and hinge loss\n",
    "SVM_f1_validation_l2_hinge = np.empty(100) #validation data\n",
    "\n",
    "for i in range(100):\n",
    "    C = C_vals[i]\n",
    "    SVM_f1_train_l2_hinge[i], SVM_f1_validation_l2_hinge[i] = SVM_f1(penalty='l2', loss='hinge', C=C) "
   ]
  },
  {
   "cell_type": "code",
   "execution_count": 122,
   "metadata": {
    "scrolled": true
   },
   "outputs": [
    {
     "data": {
      "image/png": "[encoded data removed]",
      "text/plain": [
       "<Figure size 432x288 with 1 Axes>"
      ]
     },
     "metadata": {},
     "output_type": "display_data"
    }
   ],
   "source": [
    "plt.figure()\n",
    "plt.scatter(C_vals, SVM_f1_train_l2_squared, label = 'Training data, squared hinge loss')\n",
    "plt.scatter(C_vals, SVM_f1_validation_l2_squared, label = 'Validation data, squared hinge loss')\n",
    "plt.scatter(C_vals, SVM_f1_train_l2_hinge, label = 'Training data, hinge loss')\n",
    "plt.scatter(C_vals, SVM_f1_validation_l2_hinge, label = 'Validation data, hinge loss')\n",
    "plt.legend(loc = 0, bbox_to_anchor = (1,1))\n",
    "plt.title('F1-score vs regularization parameter \\n using SVM with L2 regularization')\n",
    "plt.xlabel('Regularization parameter')\n",
    "plt.ylabel('F1-score')\n",
    "plt.ylim(0.8)\n",
    "plt.show()"
   ]
  },
  {
   "cell_type": "markdown",
   "metadata": {},
   "source": [
    "We see that the choice of loss function has a big effect on the f1-scores. Using hinge loss, the regularization parameter suddenly becomes important again, with small changes in the regularization parameter giving large variations in f1-scores."
   ]
  },
  {
   "cell_type": "markdown",
   "metadata": {},
   "source": [
    "The choice of hyperparameters that maximize the f1-scores clearly includes using L2 regularization and a hinge loss function. For choosing the value of the regularization parameter, we in principle need to consider two things: what choice maximizes the f1-score of the validation data and what choice minimizes the difference between the f1-scores of the test data and the validation data?"
   ]
  },
  {
   "cell_type": "markdown",
   "metadata": {},
   "source": [
    "The second question is important to ask to avoid overfitting. However, we only have to worry about overfitting when the scores on the training data are much better than the scores on the validation data. We see that the best validation data scores are better than the best training data scores, so we are not at risk of this happening. Thus, it is enough to pick the best validation data score - but making sure that the training data score is still good (i.e. none of the outliers below ~ 0.85) as that would just lead to overfitting to the validation data."
   ]
  },
  {
   "cell_type": "code",
   "execution_count": 128,
   "metadata": {
    "scrolled": true
   },
   "outputs": [
    {
     "name": "stdout",
     "output_type": "stream",
     "text": [
      "The maximum f1-score is 0.891 which is achieved for C = 20 . The f1-score on the training data for this value of C is 0.876 .\n"
     ]
    }
   ],
   "source": [
    "parameter_index = np.argmax(SVM_f1_validation_l2_hinge) #find the index that maximizes the f1-score using l2 and hinge\n",
    "C_best = C_vals[parameter_index] #the value of C that maximizes the f1-score\n",
    "\n",
    "print('The maximum f1-score is', round(SVM_f1_validation_l2_hinge[parameter_index],3), 'which is achieved for C =', C_best, '. The f1-score on the training data for this value of C is', round(SVM_f1_train_l2_hinge[parameter_index],3), '.')"
   ]
  },
  {
   "cell_type": "markdown",
   "metadata": {},
   "source": [
    "We now test the best model on the test data set:"
   ]
  },
  {
   "cell_type": "code",
   "execution_count": 147,
   "metadata": {},
   "outputs": [],
   "source": [
    "svm_clf = LinearSVC(penalty='l2', loss='hinge', C=20, class_weight='balanced', dual=True) #set hyperparameters\n",
    "svm_clf.fit(X_train, y_train) #fit the model to the training data\n",
    "test_predict = svm_clf.predict(X_test) #the predicted classes for the test data"
   ]
  },
  {
   "cell_type": "code",
   "execution_count": 148,
   "metadata": {},
   "outputs": [
    {
     "data": {
      "text/plain": [
       "0.8990228013029317"
      ]
     },
     "execution_count": 148,
     "metadata": {},
     "output_type": "execute_result"
    }
   ],
   "source": [
    "f1_score(y_test, test_predict)"
   ]
  },
  {
   "cell_type": "markdown",
   "metadata": {},
   "source": [
    "To summarize:"
   ]
  },
  {
   "cell_type": "markdown",
   "metadata": {},
   "source": [
    "In deliverable 2, the parameters were set like this:\n",
    "\n",
    "* penalty = 'l2' (ridge regularization)\n",
    "* loss = 'squared_hinge' (a squared hinge loss function)\n",
    "* C = 100"
   ]
  },
  {
   "cell_type": "markdown",
   "metadata": {},
   "source": [
    "These parameters gave us the following f1-scores:\n",
    "* Training: 0.879\n",
    "* Validation: 0.889\n",
    "* Test: 0.865"
   ]
  },
  {
   "cell_type": "markdown",
   "metadata": {},
   "source": [
    "Our testing lead us to the following best choice of parameters:\n",
    "\n",
    "* penalty = 'l2'\n",
    "* loss = 'hinge'\n",
    "* C = 20"
   ]
  },
  {
   "cell_type": "markdown",
   "metadata": {},
   "source": [
    "These parameters gave us the following f1-scores:\n",
    "* Training: 0.876\n",
    "* Validation: 0.891\n",
    "* Test: 0.899"
   ]
  },
  {
   "cell_type": "markdown",
   "metadata": {},
   "source": [
    "### k-Nearest Neighbours"
   ]
  },
  {
   "cell_type": "markdown",
   "metadata": {},
   "source": [
    "The only hyperparameter in this case is k, i.e. how many nearest neighbours to consider."
   ]
  },
  {
   "cell_type": "code",
   "execution_count": 150,
   "metadata": {},
   "outputs": [],
   "source": [
    "#import necessary module \n",
    "from sklearn.neighbors import KNeighborsClassifier "
   ]
  },
  {
   "cell_type": "code",
   "execution_count": 152,
   "metadata": {},
   "outputs": [],
   "source": [
    "def f1_knn(k):\n",
    "    '''\n",
    "    This function calculates the f1-scores of the validation and training sets using a k-NN algorithm given\n",
    "    a value of k\n",
    "    '''\n",
    "    knn = KNeighborsClassifier(n_neighbors=k)\n",
    "    knn.fit(X_train, y_train) #fit the model to training set\n",
    "    prediction = knn.predict(X_validation)\n",
    "    f1 = f1_score(y_validation, prediction)\n",
    "    return f1"
   ]
  },
  {
   "cell_type": "code",
   "execution_count": 161,
   "metadata": {},
   "outputs": [],
   "source": [
    "k_values = np.arange(1,41) #let k range from 1 to 40\n",
    "f1_values_knn = np.empty(40)\n",
    "for i in range(40):\n",
    "    f1_values_knn[i] = f1_knn(k_values[i])"
   ]
  },
  {
   "cell_type": "code",
   "execution_count": 162,
   "metadata": {},
   "outputs": [
    {
     "data": {
      "image/png": "[encoded data removed]",
      "text/plain": [
       "<Figure size 432x288 with 1 Axes>"
      ]
     },
     "metadata": {},
     "output_type": "display_data"
    }
   ],
   "source": [
    "plt.figure()\n",
    "plt.scatter(k_values, f1_values_knn, label='Validation data')\n",
    "plt.title('F1-score vs k for k-NN model')\n",
    "plt.ylabel('F1-score')\n",
    "plt.xlabel('k')\n",
    "plt.legend()\n",
    "plt.show()"
   ]
  },
  {
   "cell_type": "markdown",
   "metadata": {},
   "source": [
    "We see that it is meaningless to pick k > 4. Moreover, since k should be odd in order to avoid ties (e.g. with k = 4 we are at risk of having two neighbours being class 0 and one neighbour being class 1), we pick k = 3."
   ]
  },
  {
   "cell_type": "markdown",
   "metadata": {},
   "source": [
    "With k = 3, we get:"
   ]
  },
  {
   "cell_type": "code",
   "execution_count": 163,
   "metadata": {},
   "outputs": [
    {
     "name": "stdout",
     "output_type": "stream",
     "text": [
      "The f1-score for the 3-NN method is 0.8486842105263158\n"
     ]
    }
   ],
   "source": [
    "knn = KNeighborsClassifier(n_neighbors=3)\n",
    "knn.fit(X_train, y_train) #fit the model to training set\n",
    "prediction = knn.predict(X_test)\n",
    "f1_knn = f1_score(y_test, prediction)\n",
    "\n",
    "print('The f1-score for the 3-NN method is', f1_knn)"
   ]
  },
  {
   "cell_type": "markdown",
   "metadata": {},
   "source": [
    "### Random forest"
   ]
  },
  {
   "cell_type": "code",
   "execution_count": 164,
   "metadata": {},
   "outputs": [],
   "source": [
    "from sklearn.ensemble import RandomForestClassifier"
   ]
  },
  {
   "cell_type": "markdown",
   "metadata": {},
   "source": [
    "We will tune the following hyperparameters:\n",
    "* n_estimators: number of trees in the forest, we will let this range from 1 to 50\n",
    "* min_samples_split: minimum number of samples required to split an internal node, we let this range from 2 to 10\n",
    "* max_features: number of features to consider when looking for the best split, we let this range from 1 to 8"
   ]
  },
  {
   "cell_type": "code",
   "execution_count": 175,
   "metadata": {},
   "outputs": [],
   "source": [
    "def rfc_f1(n_estimators, min_samples_split, max_features):\n",
    "    rfc = RandomForestClassifier(n_estimators = n_estimators, min_samples_split = min_samples_split, max_features = max_features, class_weight='balanced')\n",
    "    rfc.fit(X_train, y_train) #fits to training set\n",
    "    \n",
    "    #make predictions\n",
    "    train_predict = rfc.predict(X_train)\n",
    "    validation_predict = rfc.predict(X_validation)\n",
    "    \n",
    "    rfc_tr_f1 = f1_score(y_train, train_predict) #f1-score for training data\n",
    "    rfc_validation_f1 = f1_score(y_validation, validation_predict) #f1-score for test data\n",
    "    \n",
    "    return rfc_tr_f1, rfc_validation_f1"
   ]
  },
  {
   "cell_type": "code",
   "execution_count": 176,
   "metadata": {},
   "outputs": [],
   "source": [
    "n_vals = np.arange(1,51) #n_estimators\n",
    "min_sample_split_vals = np.arange(2,11) #min_sample_split\n",
    "max_features_vals = np.arange(1,9) #max_features"
   ]
  },
  {
   "cell_type": "code",
   "execution_count": 179,
   "metadata": {
    "scrolled": true
   },
   "outputs": [
    {
     "name": "stdout",
     "output_type": "stream",
     "text": [
      "0\n",
      "1\n",
      "2\n",
      "3\n",
      "4\n",
      "5\n",
      "6\n",
      "7\n",
      "8\n",
      "9\n",
      "10\n",
      "11\n",
      "12\n",
      "13\n",
      "14\n",
      "15\n",
      "16\n",
      "17\n",
      "18\n",
      "19\n",
      "20\n",
      "21\n",
      "22\n",
      "23\n",
      "24\n",
      "25\n",
      "26\n",
      "27\n",
      "28\n",
      "29\n",
      "30\n",
      "31\n",
      "32\n",
      "33\n",
      "34\n",
      "35\n",
      "36\n",
      "37\n",
      "38\n",
      "39\n",
      "40\n",
      "41\n",
      "42\n",
      "43\n",
      "44\n",
      "45\n",
      "46\n",
      "47\n",
      "48\n",
      "49\n"
     ]
    }
   ],
   "source": [
    "f1_scores_rfc_train = np.empty((50, 9, 8))\n",
    "f1_scores_rfc_validation = np.empty((50, 9, 8))\n",
    "for i in range(50): #loop through values of n_estimators\n",
    "    print(i)\n",
    "    for j in range(9): #loop through values of min_sample_split\n",
    "        for k in range(8): #loop through values of max_features\n",
    "            f1_scores_rfc_train[i,j,k], f1_scores_rfc_validation[i,j,k] = rfc_f1(n_vals[i], min_sample_split_vals[j], max_features_vals[k])"
   ]
  },
  {
   "cell_type": "code",
   "execution_count": 193,
   "metadata": {},
   "outputs": [],
   "source": [
    "#flatten the arrays\n",
    "f1_tr = np.ravel(f1_scores_rfc_train)\n",
    "f1_val = np.ravel(f1_scores_rfc_validation)"
   ]
  },
  {
   "cell_type": "code",
   "execution_count": 194,
   "metadata": {},
   "outputs": [
    {
     "data": {
      "text/plain": [
       "0.9762578749995151"
      ]
     },
     "execution_count": 194,
     "metadata": {},
     "output_type": "execute_result"
    }
   ],
   "source": [
    "np.mean(f1_tr)"
   ]
  },
  {
   "cell_type": "markdown",
   "metadata": {},
   "source": [
    "The mean of F1-scores is very high for the training data. This can indicate that we might be overfitting."
   ]
  },
  {
   "cell_type": "markdown",
   "metadata": {},
   "source": [
    "We find the max f1-score for the validation data."
   ]
  },
  {
   "cell_type": "code",
   "execution_count": 195,
   "metadata": {},
   "outputs": [],
   "source": [
    "max_index_rfc = np.argmax(f1_val) #the index corresponding to the greatest f1-score for the validation data"
   ]
  },
  {
   "cell_type": "code",
   "execution_count": 196,
   "metadata": {},
   "outputs": [
    {
     "data": {
      "text/plain": [
       "0.9028213166144201"
      ]
     },
     "execution_count": 196,
     "metadata": {},
     "output_type": "execute_result"
    }
   ],
   "source": [
    "f1_val[rfc_max_index] #the f1-score at this index"
   ]
  },
  {
   "cell_type": "code",
   "execution_count": 197,
   "metadata": {},
   "outputs": [
    {
     "data": {
      "text/plain": [
       "0.9875187219171243"
      ]
     },
     "execution_count": 197,
     "metadata": {},
     "output_type": "execute_result"
    }
   ],
   "source": [
    "f1_tr[rfc_max_index] #the f1-score of the training data at this index"
   ]
  },
  {
   "cell_type": "markdown",
   "metadata": {},
   "source": [
    "We see that the the choice of parameters corresponding to the max f1-score for the validation data also corresponds to better-than-average f1-score for the training data. Thus we are not overfitting to the validation data."
   ]
  },
  {
   "cell_type": "markdown",
   "metadata": {},
   "source": [
    "We have to find what parameters that maximize the f1-score for the validation data. The index in the flattened array is:"
   ]
  },
  {
   "cell_type": "code",
   "execution_count": 198,
   "metadata": {},
   "outputs": [
    {
     "name": "stdout",
     "output_type": "stream",
     "text": [
      "3195\n"
     ]
    }
   ],
   "source": [
    "print(max_index_rfc)"
   ]
  },
  {
   "cell_type": "code",
   "execution_count": 233,
   "metadata": {},
   "outputs": [
    {
     "data": {
      "text/plain": [
       "(44, 3, 3)"
      ]
     },
     "execution_count": 233,
     "metadata": {},
     "output_type": "execute_result"
    }
   ],
   "source": [
    "np.unravel_index(max_index_rfc, f1_scores_rfc_validation.shape)"
   ]
  },
  {
   "cell_type": "markdown",
   "metadata": {},
   "source": [
    "The best parameters are:\n",
    "* n_estimators = 45 (the 0th index has n_estimators = 1)\n",
    "* min_sample_split = 5 (the 0th index has min_sample_split = 2, so the third has min_sample_split = 5)\n",
    "* max_features = 4 (the 0th index has max_features = 1)"
   ]
  },
  {
   "cell_type": "markdown",
   "metadata": {},
   "source": [
    "We test this:"
   ]
  },
  {
   "cell_type": "code",
   "execution_count": 277,
   "metadata": {},
   "outputs": [],
   "source": [
    "rfc = RandomForestClassifier(n_estimators = 45, min_samples_split = 5, max_features = 4, class_weight='balanced')\n",
    "rfc.fit(X_train, y_train) #fits to training set\n",
    "    \n",
    "test_predict = rfc.predict(X_test) #make predictions\n",
    "rfc_test_f1 = f1_score(y_test, test_predict) #f1-score for test data"
   ]
  },
  {
   "cell_type": "code",
   "execution_count": 278,
   "metadata": {},
   "outputs": [
    {
     "name": "stdout",
     "output_type": "stream",
     "text": [
      "Test data: 0.9020866773675763\n"
     ]
    }
   ],
   "source": [
    "print('Test data:', rfc_test_f1)"
   ]
  },
  {
   "cell_type": "markdown",
   "metadata": {},
   "source": [
    "### Comparison"
   ]
  },
  {
   "cell_type": "markdown",
   "metadata": {},
   "source": [
    "We get the following results:"
   ]
  },
  {
   "cell_type": "markdown",
   "metadata": {},
   "source": [
    "F1-scores:\n",
    "* SVM: 0.899\n",
    "* kNN: 0.849\n",
    "* RFC: 0.902\n",
    "\n",
    "We decide to save the weigths for the SVM and RFC. We will choose RFC as our final model."
   ]
  },
  {
   "cell_type": "code",
   "execution_count": 281,
   "metadata": {},
   "outputs": [],
   "source": [
    "import pickle\n",
    "pickle.dump(svm_clf, open('SVM_weigths.sav', 'wb'))\n",
    "pickle.dump(rfc, open('RFC_weigths.sav', 'wb'))"
   ]
  },
  {
   "cell_type": "markdown",
   "metadata": {},
   "source": [
    "The confusion matrix for our model is:"
   ]
  },
  {
   "cell_type": "code",
   "execution_count": 282,
   "metadata": {},
   "outputs": [
    {
     "name": "stdout",
     "output_type": "stream",
     "text": [
      "Confusion matrix: \n",
      "\n",
      "[[3238   21]\n",
      " [  40  281]]\n",
      "\n",
      "True positives 281\n",
      "True negatives 3238\n",
      "False positives 21\n",
      "False negatives 40\n"
     ]
    }
   ],
   "source": [
    "confusion_test = confusion_matrix(y_test, test_predict)\n",
    "print('Confusion matrix: \\n')\n",
    "print(confusion_test)\n",
    "\n",
    "tn, fp, fn, tp = confusion_test.ravel()\n",
    "\n",
    "print('\\nTrue positives', tp)\n",
    "print('True negatives', tn)\n",
    "print('False positives', fp)\n",
    "print('False negatives', fn)"
   ]
  },
  {
   "cell_type": "markdown",
   "metadata": {},
   "source": [
    "## Presenting"
   ]
  },
  {
   "cell_type": "markdown",
   "metadata": {},
   "source": [
    "The results will be presented with a poster. As a first draft, the poster will include the following:\n",
    "\n",
    "* Problem statement: similar to what's included in deliverable 2\n",
    "* Background: motivation for choosing the project, what are pulsars and why does the problem exist\n",
    "* The data used: description of the data, similar to what's in deliverable 1 and 2\n",
    "* Methodology: similar to what's in deliverable 1, but also including the process of selecting the final model as descriped in this deliverable\n",
    "* Results: the f1-scores and confusion matrix from this deliverable\n",
    "* Discussion: compare the results to baseline performance"
   ]
  }
 ],
 "metadata": {
  "kernelspec": {
   "display_name": "Python 3",
   "language": "python",
   "name": "python3"
  },
  "language_info": {
   "codemirror_mode": {
    "name": "ipython",
    "version": 3
   },
   "file_extension": ".py",
   "mimetype": "text/x-python",
   "name": "python",
   "nbconvert_exporter": "python",
   "pygments_lexer": "ipython3",
   "version": "3.6.5"
  }
 },
 "nbformat": 4,
 "nbformat_minor": 2
}
